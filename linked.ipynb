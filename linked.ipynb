{
 "cells": [
  {
   "cell_type": "code",
   "execution_count": null,
   "id": "fa3841fe-52c5-4ffd-a916-6d48fc349834",
   "metadata": {},
   "outputs": [],
   "source": [
    "Problem 1: Reverse a singly linked list.\n",
    "Input: 1 -> 2 -> 3 -> 4 -> 5\n",
    "Output: 5 -> 4 -> 3 -> 2 -> 1"
   ]
  },
  {
   "cell_type": "code",
   "execution_count": 4,
   "id": "5b9c5050-05bf-4446-997e-e415af6f1e4c",
   "metadata": {},
   "outputs": [
    {
     "name": "stdout",
     "output_type": "stream",
     "text": [
      "4 3 2 1 "
     ]
    }
   ],
   "source": [
    "class Node:\n",
    "    def __init__(self, data):\n",
    "        self.data = data\n",
    "        self.next = None\n",
    "\n",
    "def reverse_list(head):\n",
    "    prev = None\n",
    "    curr = head\n",
    "    while curr:\n",
    "        next_node = curr.next\n",
    "        curr.next = prev\n",
    "        prev = curr\n",
    "        curr = next_node\n",
    "    return prev\n",
    "\n",
    "head = Node(1)\n",
    "head.next = Node(2)\n",
    "head.next.next = Node(3)\n",
    "head.next.next.next = Node(4)\n",
    "\n",
    "reversed_head = reverse_list(head)\n",
    "\n",
    "while reversed_head:\n",
    "    print(reversed_head.data, end=\" \")\n",
    "    reversed_head = reversed_head.next\n",
    "\n"
   ]
  },
  {
   "cell_type": "code",
   "execution_count": null,
   "id": "e6cf5ea8-36ec-4c15-ac95-562817d31256",
   "metadata": {},
   "outputs": [],
   "source": [
    "Problem 2: Merge two sorted linked lists into one sorted linked list.\n"
   ]
  },
  {
   "cell_type": "code",
   "execution_count": 7,
   "id": "f04f2f47-c796-4e96-8bf8-b09b300fb637",
   "metadata": {},
   "outputs": [
    {
     "name": "stdout",
     "output_type": "stream",
     "text": [
      "list1:\n",
      "1->2->3->4->5->6->None\n",
      "list2:\n",
      "2->3->4->5->6->None\n",
      "\n",
      "Merged List:\n",
      "1->2->3->4->5->6->None\n"
     ]
    }
   ],
   "source": [
    "class ListNode:\n",
    "    def __init__(self,value = 0,next = None):\n",
    "        self.value = value\n",
    "        self.next = next\n",
    "def merge_sorted_lists(list1,list2):\n",
    "    dummy = ListNode()\n",
    "    current = dummy\n",
    "    while list1 is not None and list2 is not None:\n",
    "        if list1.value < list2.value:\n",
    "            current.next = list1\n",
    "            list1 = list1.next\n",
    "        else:\n",
    "            current.next = list2\n",
    "            list2 = list2.next\n",
    "        \n",
    "        current = current.next \n",
    "    if list1 is not None:\n",
    "        current.next = list1\n",
    "    elif list2 is not None:\n",
    "        current.next = list2\n",
    "    \n",
    "    return dummy.next\n",
    "\n",
    "def display(head):\n",
    "    current = head\n",
    "    while current is not None:\n",
    "        print(current.value, end = \"->\")\n",
    "        current = current.next\n",
    "        \n",
    "    print(\"None\")\n",
    "    \n",
    "list1 = ListNode(1,ListNode(3, ListNode(5)))\n",
    "list2 = ListNode(2,ListNode(4, ListNode(6)))\n",
    "\n",
    "merged_list = merge_sorted_lists(list1,list2)\n",
    "\n",
    "print(\"list1:\")\n",
    "display(list1)\n",
    "print(\"list2:\")\n",
    "display(list2)\n",
    "\n",
    "print(\"\\nMerged List:\")\n",
    "display(merged_list)\n",
    "    \n",
    "\n",
    "        \n",
    "            "
   ]
  },
  {
   "cell_type": "code",
   "execution_count": null,
   "id": "fb72a58d-8c57-43a7-a76f-fede05debe9e",
   "metadata": {},
   "outputs": [],
   "source": [
    "Problem 3: Remove the nth node from the end of a linked list."
   ]
  },
  {
   "cell_type": "code",
   "execution_count": 15,
   "id": "40ac82e3-164d-4079-9f51-d00f9bf60678",
   "metadata": {},
   "outputs": [
    {
     "name": "stdout",
     "output_type": "stream",
     "text": [
      "Original list:\n",
      "1 -> 2 -> 3 -> 4 -> 5 -> None\n",
      "Updated list:\n",
      "1 -> 2 -> 4 -> 5 -> None\n"
     ]
    }
   ],
   "source": [
    "class ListNode:\n",
    "    def __init__(self, value=0, next=None):\n",
    "        self.value = value\n",
    "        self.next = next\n",
    "\n",
    "def remove_nth_from_end(head, k):\n",
    "    if k < 0 or not head:\n",
    "        return head\n",
    "\n",
    "    length = 0\n",
    "    current = head\n",
    "\n",
    "    while current:\n",
    "        length += 1\n",
    "        current = current.next\n",
    "\n",
    "    if k >= length:\n",
    "        return head\n",
    "\n",
    "    if k == 0:\n",
    "        head = head.next\n",
    "    else:\n",
    "        i = 0\n",
    "        prev = head\n",
    "\n",
    "        while i < k - 1:\n",
    "            prev = prev.next\n",
    "            i += 1\n",
    "\n",
    "        prev.next = prev.next.next\n",
    "\n",
    "    return head\n",
    "\n",
    "def print_linked_list(head):\n",
    "    current = head\n",
    "    while current is not None:\n",
    "        print(current.value, end=\" -> \")\n",
    "        current = current.next\n",
    "    print(\"None\")\n",
    "\n",
    "linked_list = None  # creating an empty linked list\n",
    "#if not linked_list:\n",
    "linked_list = ListNode(1)\n",
    "linked_list.next = ListNode(2)\n",
    "linked_list.next.next = ListNode(3)\n",
    "linked_list.next.next.next = ListNode(4)\n",
    "linked_list.next.next.next.next = ListNode(5)\n",
    "\n",
    "print(\"Original list:\")\n",
    "print_linked_list(linked_list)\n",
    "\n",
    "linked_list = remove_nth_from_end(linked_list, 2)\n",
    "\n",
    "print(\"Updated list:\")\n",
    "print_linked_list(linked_list)\n"
   ]
  },
  {
   "cell_type": "code",
   "execution_count": null,
   "id": "38d7cafc-fc7a-4d0d-bf8f-3d9da4716d8c",
   "metadata": {},
   "outputs": [],
   "source": [
    "Problem 4: Find the intersection point of two linked lists.\n",
    "Input: List 1: 1 -> 2 -> 3 -> 4, List 2: 9 -> 8 -> 3 -> 4\n",
    "Output: Node with value 3"
   ]
  },
  {
   "cell_type": "code",
   "execution_count": 3,
   "id": "bcc50f33-6b8f-45ee-a428-b84048a451f6",
   "metadata": {},
   "outputs": [
    {
     "name": "stdout",
     "output_type": "stream",
     "text": [
      "list1:\n",
      "1->3->5->None\n",
      "list2:\n",
      "2->3->6->None\n",
      "\n",
      "Merged List:\n",
      "3->None\n"
     ]
    }
   ],
   "source": [
    "class ListNode:\n",
    "    def __init__(self, value=0, next=None):\n",
    "        self.value = value\n",
    "        self.next = next\n",
    "\n",
    "def intersect(list1, list2):\n",
    "    dummy = ListNode()\n",
    "    current = dummy\n",
    "\n",
    "    while list1 is not None and list2 is not None:\n",
    "        if list1.value == list2.value:\n",
    "            current.next = ListNode(list1.value)\n",
    "            current = current.next\n",
    "            list1 = list1.next\n",
    "            list2 = list2.next\n",
    "        elif list1.value < list2.value:\n",
    "            list1 = list1.next\n",
    "        else:\n",
    "            list2 = list2.next\n",
    "\n",
    "    return dummy.next\n",
    "\n",
    "def display(head):\n",
    "    current = head\n",
    "    while current is not None:\n",
    "        print(current.value, end=\"->\")\n",
    "        current = current.next\n",
    "\n",
    "    print(\"None\")\n",
    "\n",
    "list1 = ListNode(1, ListNode(3, ListNode(5)))\n",
    "list2 = ListNode(2, ListNode(3, ListNode(6)))\n",
    "\n",
    "merged_list = intersect(list1, list2)\n",
    "\n",
    "print(\"list1:\")\n",
    "display(list1)\n",
    "print(\"list2:\")\n",
    "display(list2)\n",
    "\n",
    "print(\"\\nMerged List:\")\n",
    "display(merged_list)\n"
   ]
  },
  {
   "cell_type": "code",
   "execution_count": null,
   "id": "c3062424-8a8a-4b92-8d91-09ff5b61af98",
   "metadata": {},
   "outputs": [],
   "source": [
    "Problem 5: Remove duplicates from a sorted linked list.\n",
    "Input: 1 -> 1 -> 2 -> 3 -> 3\n",
    "Output: 1 -> 2 -> 3"
   ]
  },
  {
   "cell_type": "code",
   "execution_count": 5,
   "id": "5fa1d6df-89c3-43de-b367-d837dc05544e",
   "metadata": {},
   "outputs": [
    {
     "name": "stdout",
     "output_type": "stream",
     "text": [
      "Original List:\n",
      "1->1->2->3->3->None\n",
      "\n",
      "List after removing duplicates:\n",
      "1->2->3->None\n"
     ]
    }
   ],
   "source": [
    "class ListNode:\n",
    "    def __init__(self, value=0, next=None):\n",
    "        self.value = value\n",
    "        self.next = next\n",
    "def remove_duplicate(head):\n",
    "    current = head\n",
    "    while current is not None and current.next is not None:\n",
    "        if current.value == current.next.value:\n",
    "            current.next = current.next.next\n",
    "        else:\n",
    "            current = current.next\n",
    "sorted_list = ListNode(1, ListNode(1, ListNode(2, ListNode(3, ListNode(3)))))\n",
    "\n",
    "print(\"Original List:\")\n",
    "display(sorted_list)\n",
    "\n",
    "remove_duplicate(sorted_list)\n",
    "\n",
    "print(\"\\nList after removing duplicates:\")\n",
    "display(sorted_list)\n",
    "            \n",
    "    "
   ]
  },
  {
   "cell_type": "code",
   "execution_count": null,
   "id": "c0182fbf-eaf2-406c-bf52-7c5ec26cddf2",
   "metadata": {},
   "outputs": [],
   "source": [
    "Problem 6: Add two numbers represented by linked lists (where each node contains a single digit).\n",
    "Input: List 1: 2 -> 4 -> 3, List 2: 5 -> 6 -> 4 (represents 342 + 465)\n",
    "Output: 7 -> 0 -> 8 (represents 807)"
   ]
  },
  {
   "cell_type": "code",
   "execution_count": 7,
   "id": "959398bc-41b4-4249-88aa-c37cb905b3d6",
   "metadata": {},
   "outputs": [
    {
     "name": "stdout",
     "output_type": "stream",
     "text": [
      "List 1:\n",
      "2 -> 4 -> 3 -> None\n",
      "List 2:\n",
      "5 -> 6 -> 4 -> None\n",
      "\n",
      "Sum:\n",
      "7 -> 0 -> 8 -> None\n"
     ]
    }
   ],
   "source": [
    "class ListNode:\n",
    "    def __init__(self, value=0, next=None):\n",
    "        self.value = value\n",
    "        self.next = next\n",
    "\n",
    "def add_two_numbers(list1, list2):\n",
    "    dummy = ListNode()\n",
    "    current = dummy\n",
    "    carry = 0\n",
    "\n",
    "    while list1 is not None or list2 is not None or carry == 1:\n",
    "        total = 0\n",
    "\n",
    "        if list1 is not None:\n",
    "            total += list1.value\n",
    "            list1 = list1.next\n",
    "\n",
    "        if list2 is not None:\n",
    "            total += list2.value\n",
    "            list2 = list2.next\n",
    "\n",
    "        total += carry\n",
    "        carry = total // 10\n",
    "\n",
    "        current.next = ListNode(total % 10)\n",
    "        current = current.next\n",
    "\n",
    "    return dummy.next\n",
    "\n",
    "def display(head):\n",
    "    current = head\n",
    "    while current:\n",
    "        print(current.value, end=\" -> \")\n",
    "        current = current.next\n",
    "    print(\"None\")\n",
    "\n",
    "# Example usage:\n",
    "list1 = ListNode(2, ListNode(4, ListNode(3)))\n",
    "list2 = ListNode(5, ListNode(6, ListNode(4)))\n",
    "\n",
    "# Display the input linked lists\n",
    "print(\"List 1:\")\n",
    "display(list1)\n",
    "\n",
    "print(\"List 2:\")\n",
    "display(list2)\n",
    "\n",
    "# Add the two numbers and display the result\n",
    "result = add_two_numbers(list1, list2)\n",
    "print(\"\\nSum:\")\n",
    "display(result)\n"
   ]
  },
  {
   "cell_type": "code",
   "execution_count": null,
   "id": "c951bdfd-069e-40d1-bb7b-f25e4bcd6a22",
   "metadata": {},
   "outputs": [],
   "source": [
    "Problem 7: Swap nodes in pairs in a linked list.\n",
    "Input: 1 -> 2 -> 3 -> 4\n",
    "Output: 2 -> 1 -> 4 -> 3"
   ]
  },
  {
   "cell_type": "code",
   "execution_count": 8,
   "id": "a1d15cba-0c45-466d-9a16-94ffaeff5d79",
   "metadata": {},
   "outputs": [
    {
     "name": "stdout",
     "output_type": "stream",
     "text": [
      "Original List:\n",
      "1 -> 2 -> 3 -> 4 -> None\n",
      "\n",
      "List after swapping pairs:\n",
      "2 -> 1 -> 4 -> 3 -> None\n"
     ]
    }
   ],
   "source": [
    "class ListNode:\n",
    "    def __init__(self, value=0, next=None):\n",
    "        self.value = value\n",
    "        self.next = next\n",
    "\n",
    "def swap_pairs(head):\n",
    "    dummy = ListNode()\n",
    "    dummy.next = head\n",
    "    current = dummy\n",
    "\n",
    "    while current.next and current.next.next:\n",
    "        # Nodes to be swapped\n",
    "        first_node = current.next\n",
    "        second_node = current.next.next\n",
    "\n",
    "        # Swap values\n",
    "        first_node.value, second_node.value = second_node.value, first_node.value\n",
    "\n",
    "        # Move to the next pair\n",
    "        current = current.next.next\n",
    "\n",
    "    return dummy.next\n",
    "\n",
    "def display(head):\n",
    "    current = head\n",
    "    while current:\n",
    "        print(current.value, end=\" -> \")\n",
    "        current = current.next\n",
    "    print(\"None\")\n",
    "\n",
    "# Example usage:\n",
    "# Input: 1 -> 2 -> 3 -> 4\n",
    "# Output: 2 -> 1 -> 4 -> 3\n",
    "\n",
    "original_list = ListNode(1, ListNode(2, ListNode(3, ListNode(4))))\n",
    "\n",
    "print(\"Original List:\")\n",
    "display(original_list)\n",
    "\n",
    "swapped_list = swap_pairs(original_list)\n",
    "\n",
    "print(\"\\nList after swapping pairs:\")\n",
    "display(swapped_list)\n"
   ]
  },
  {
   "cell_type": "code",
   "execution_count": null,
   "id": "894fd7f1-cea3-480a-b339-2d17ea0eae6d",
   "metadata": {},
   "outputs": [],
   "source": [
    "Problem 8: Reverse nodes in a linked list in groups of k.\n",
    "Input: 1 -> 2 -> 3 -> 4 -> 5, k = 3\n",
    "Output: 3 -> 2 -> 1 -> 4 -> 5"
   ]
  },
  {
   "cell_type": "code",
   "execution_count": 5,
   "id": "b4e638bf-e80e-4f7f-bab6-cf8b8bc799f3",
   "metadata": {},
   "outputs": [
    {
     "name": "stdout",
     "output_type": "stream",
     "text": [
      "3 2 1 5 4 "
     ]
    }
   ],
   "source": [
    "class Node:\n",
    "    def __init__(self, data):\n",
    "        self.data = data\n",
    "        self.next = None\n",
    "\n",
    "def reverse_list(head, k):\n",
    "    next_node = None\n",
    "    prev = None\n",
    "    curr = head\n",
    "    c = 0\n",
    "\n",
    "    # Reverse the first k nodes\n",
    "    while curr and c < k:\n",
    "        next_node = curr.next\n",
    "        curr.next = prev\n",
    "        prev = curr\n",
    "        curr = next_node\n",
    "        c += 1\n",
    "\n",
    "    # If there are more nodes, recursively reverse the next k nodes\n",
    "    if next_node is not None:\n",
    "        head.next = reverse_list(next_node, k)\n",
    "\n",
    "    return prev\n",
    "\n",
    "# Original linked list: 1 -> 2 -> 3 -> 4\n",
    "head = Node(1)\n",
    "head.next = Node(2)\n",
    "head.next.next = Node(3)\n",
    "head.next.next.next = Node(4)\n",
    "head.next.next.next.next = Node(5)\n",
    "\n",
    "k = 3\n",
    "\n",
    "# Reverse in groups of k\n",
    "reversed_head = reverse_list(head, k)\n",
    "\n",
    "# Print the reversed linked list\n",
    "while reversed_head:\n",
    "    print(reversed_head.data, end=\" \")\n",
    "    reversed_head = reversed_head.next\n",
    "\n"
   ]
  },
  {
   "cell_type": "code",
   "execution_count": null,
   "id": "5e3c07d6-386c-4f41-9ae4-032d7e99f9ef",
   "metadata": {},
   "outputs": [],
   "source": [
    "Problem 9: Determine if a linked list is a palindrome.\n",
    "Input: 1 -> 2 -> 2 -> 1\n",
    "Output: True"
   ]
  },
  {
   "cell_type": "code",
   "execution_count": 6,
   "id": "f4bcdb3b-dc27-4823-a04b-f98e7911a503",
   "metadata": {},
   "outputs": [
    {
     "name": "stdout",
     "output_type": "stream",
     "text": [
      "True\n"
     ]
    }
   ],
   "source": [
    "class ListNode:\n",
    "    def __init__(self, value=0, next=None):\n",
    "        self.value = value\n",
    "        self.next = next\n",
    "\n",
    "def is_palindrome(head):\n",
    "    if not head or not head.next:\n",
    "        return True  # Empty list or a single-node list is considered a palindrome\n",
    "\n",
    "    # Find the middle of the linked list\n",
    "    slow = head\n",
    "    fast = head\n",
    "    while fast and fast.next:\n",
    "        slow = slow.next\n",
    "        fast = fast.next.next\n",
    "\n",
    "    # Reverse the second half of the linked list\n",
    "    second_half = reverse_list(slow)\n",
    "\n",
    "    # Compare the first half with the reversed second half\n",
    "    while second_half:\n",
    "        if head.value != second_half.value:\n",
    "            return False\n",
    "        head = head.next\n",
    "        second_half = second_half.next\n",
    "\n",
    "    return True\n",
    "\n",
    "def reverse_list(head):\n",
    "    prev = None\n",
    "    current = head\n",
    "\n",
    "    while current:\n",
    "        next_node = current.next\n",
    "        current.next = prev\n",
    "        prev = current\n",
    "        current = next_node\n",
    "\n",
    "    return prev\n",
    "\n",
    "# Example usage:\n",
    "# Input: 1 -> 2 -> 2 -> 1\n",
    "# Output: True\n",
    "\n",
    "# Create a palindrome linked list\n",
    "palindrome_list = ListNode(1, ListNode(2, ListNode(2, ListNode(1))))\n",
    "\n",
    "# Check if the linked list is a palindrome\n",
    "result = is_palindrome(palindrome_list)\n",
    "\n",
    "print(result)\n"
   ]
  },
  {
   "cell_type": "code",
   "execution_count": null,
   "id": "3742f380-07a9-4381-91c0-a852b295c8c5",
   "metadata": {},
   "outputs": [],
   "source": [
    "Problem 10: Rotate a linked list to the right by k places.\n",
    "Input: 1 -> 2 -> 3 -> 4 -> 5, k = 2\n",
    "Output: 4 -> 5 -> 1 -> 2 -> 3"
   ]
  },
  {
   "cell_type": "code",
   "execution_count": 7,
   "id": "13eea376-ad69-45db-85a3-5e7295a84bd3",
   "metadata": {},
   "outputs": [
    {
     "name": "stdout",
     "output_type": "stream",
     "text": [
      "Original List:\n",
      "1 -> 2 -> 3 -> 4 -> 5 -> None\n",
      "\n",
      "List after rotation:\n",
      "4 -> 5 -> 1 -> 2 -> 3 -> None\n"
     ]
    }
   ],
   "source": [
    "class ListNode:\n",
    "    def __init__(self, value=0, next=None):\n",
    "        self.value = value\n",
    "        self.next = next\n",
    "\n",
    "def rotate_right(head, k):\n",
    "    if not head or k == 0:\n",
    "        return head\n",
    "\n",
    "    # Find the length of the linked list\n",
    "    length = 1\n",
    "    current = head\n",
    "    while current.next:\n",
    "        length += 1\n",
    "        current = current.next\n",
    "\n",
    "    # Calculate effective rotation value\n",
    "    k = k % length\n",
    "\n",
    "    # If k is 0, no rotation is needed\n",
    "    if k == 0:\n",
    "        return head\n",
    "\n",
    "    # Identify the new head and tail after rotation\n",
    "    new_tail = head\n",
    "    for _ in range(length - k - 1):\n",
    "        new_tail = new_tail.next\n",
    "\n",
    "    new_head = new_tail.next\n",
    "    new_tail.next = None  # Break the link to create a new tail\n",
    "\n",
    "    # Update next pointers to rotate the linked list\n",
    "    current.next = head\n",
    "\n",
    "    return new_head\n",
    "\n",
    "def display(head):\n",
    "    current = head\n",
    "    while current:\n",
    "        print(current.value, end=\" -> \")\n",
    "        current = current.next\n",
    "    print(\"None\")\n",
    "\n",
    "# Example usage:\n",
    "# Input: 1 -> 2 -> 3 -> 4 -> 5, k = 2\n",
    "# Output: 4 -> 5 -> 1 -> 2 -> 3\n",
    "\n",
    "original_list = ListNode(1, ListNode(2, ListNode(3, ListNode(4, ListNode(5)))))\n",
    "\n",
    "print(\"Original List:\")\n",
    "display(original_list)\n",
    "\n",
    "k = 2\n",
    "\n",
    "# Rotate the linked list to the right by k places\n",
    "rotated_list = rotate_right(original_list, k)\n",
    "\n",
    "print(\"\\nList after rotation:\")\n",
    "display(rotated_list)\n"
   ]
  },
  {
   "cell_type": "code",
   "execution_count": null,
   "id": "f2bb9a13-221f-49c3-bef3-04e357cc3d77",
   "metadata": {},
   "outputs": [],
   "source": [
    "Problem 11: Flatten a multilevel doubly linked list.\n",
    "Input: 1 <-> 2 <-> 3 <-> 7 <-> 8 <-> 11 -> 12, 4 <-> 5 -> 9 -> 10, 6 -> 13\n",
    "Output: 1 <-> 2 <-> 3 <-> 4 <-> 5 <-> 6 <-> 7 <-> 8 <-> 9 <-> 10 <-> 11 <-> 12 <-> 13"
   ]
  },
  {
   "cell_type": "code",
   "execution_count": 9,
   "id": "afc8ef60-4862-41a1-87b9-1187bd09bfa7",
   "metadata": {},
   "outputs": [
    {
     "data": {
      "text/plain": [
       "<__main__.Node at 0x7f58c0387d00>"
      ]
     },
     "execution_count": 9,
     "metadata": {},
     "output_type": "execute_result"
    }
   ],
   "source": [
    "class Node:\n",
    "    def __init__(self, value, prev=None, next=None, child=None):\n",
    "        self.value = value\n",
    "        self.prev = prev\n",
    "        self.next = next\n",
    "        self.child = child\n",
    "\n",
    "def flatten_linked_list(head):\n",
    "    if not head:\n",
    "        return None\n",
    "\n",
    "    current = head\n",
    "\n",
    "    while current:\n",
    "        if current.child:\n",
    "            # Save the next node in the original level\n",
    "            next_node = current.next\n",
    "\n",
    "            # Flatten the child level and get its tail\n",
    "            child_tail = flatten_linked_list(current.child)\n",
    "\n",
    "            # Connect the flattened child level to the original level\n",
    "            current.next = current.child\n",
    "            current.child.prev = current\n",
    "            current.child = None\n",
    "\n",
    "            if next_node:\n",
    "                # Connect the tail of the child level to the next node in the original level\n",
    "                child_tail.next = next_node\n",
    "                next_node.prev = child_tail\n",
    "\n",
    "            # Move the pointer to the end of the flattened child level\n",
    "            current = child_tail\n",
    "        else:\n",
    "            # Move to the next node in the original level\n",
    "            current = current.next\n",
    "\n",
    "    return head\n",
    "\n",
    "def display(head):\n",
    "    current = head\n",
    "    while current:\n",
    "        print(current.value, end=\" <-> \")\n",
    "        current = current.next\n",
    "    print(\"None\")\n",
    "\n",
    "# Example usage:\n",
    "# Input: 1 <-> 2 <-> 3 <-> 7 <-> 8 <-> 11 -> 12, 4 <-> 5 -> 9 -> 10, 6 -> 13\n",
    "# Output: 1 <-> 2 <-> 3 <-> 4 <-> 5 <-> 6 <-> 7 <-> 8 <-> 9 <-> 10 <-> 11 <-> 12 <-> 13\n",
    "\n",
    "# Create a sample multilevel doubly linked list\n",
    "head = Node(1)\n",
    "head.next = Node(2)\n",
    "head.next.prev = head\n",
    "head.next.next = Node(3)\n",
    "head.next.next.prev = head.next\n",
    "head.next.next.next = Node(7)\n",
    "head.next.next.next.prev = head.next.next\n",
    "head.next.next.next.next = Node(8)\n",
    "head.next.next.next.next.prev = head.next.next.next\n",
    "head.next.next.next.next.next = Node(11)\n",
    "head.next.next.next.next.next.prev = head.next.next.next.next\n",
    "head.next.next.next.next.next.next = Node(12)\n",
    "head.next.next.next.next.next.next.prev = head.next.next.next.next.next\n",
    "head.next.next.next.next.next.next.child = Node(4)\n",
    "head.next.next.next.next.next.next.child.next = Node(5)\n",
    "head.next.next.next.next.next.next.child.next.prev = head.next.next.next.next.next.next.child\n",
    "head.next.next.next.next.next.next.child.next.next = Node(9)\n",
    "head.next.next.next.next.next.next.child.next.next.prev = head.next.next.next.next.next.next.child.next\n",
    "head.next.next.next.next.next.next.child.next.next.next = Node(10)\n",
    "head.next.next.next.next.next.next.child.next.next.next.prev = head.next.next.next.next.next.next.child.next.next\n",
    "head.next.next.next\n"
   ]
  },
  {
   "cell_type": "code",
   "execution_count": null,
   "id": "0d619428-beb3-4901-8117-9b319bf3052d",
   "metadata": {},
   "outputs": [],
   "source": [
    "Problem 12: Rearrange a linked list such that all even positioned nodes are placed at the end.\n",
    "Input: 1 -> 2 -> 3 -> 4 -> 5\n",
    "Output: 1 -> 3 -> 5 -> 2 -> 4"
   ]
  },
  {
   "cell_type": "code",
   "execution_count": null,
   "id": "028587ca-988a-45c6-af89-246ef947ecd2",
   "metadata": {},
   "outputs": [],
   "source": []
  },
  {
   "cell_type": "code",
   "execution_count": null,
   "id": "41dca917-668c-4102-bd57-9bac6612462c",
   "metadata": {},
   "outputs": [],
   "source": [
    "Problem 13: Given a non-negative number represented as a linked list, add one to it.\n",
    "Input: 1 -> 2 -> 3 (represents the number 123)\n",
    "Output: 1 -> 2 -> 4 (represents the number 124)"
   ]
  },
  {
   "cell_type": "code",
   "execution_count": 8,
   "id": "29b6ff78-0795-4590-9987-b63a71fb7ef2",
   "metadata": {},
   "outputs": [
    {
     "name": "stdout",
     "output_type": "stream",
     "text": [
      "Input List:\n",
      "1 -> 2 -> 3 -> None\n",
      "\n",
      "List after adding one:\n",
      "1 -> 2 -> 4 -> None\n"
     ]
    }
   ],
   "source": [
    "class ListNode:\n",
    "    def __init__(self, value=0, next=None):\n",
    "        self.value = value\n",
    "        self.next = next\n",
    "\n",
    "def add_one_to_linked_list(head):\n",
    "    # Reverse the linked list\n",
    "    reversed_head = reverse_list(head)\n",
    "\n",
    "    current = reversed_head\n",
    "    carry = 1  # Initial carry is 1 since we are adding one to the number\n",
    "\n",
    "    while current and carry:\n",
    "        # Add one to the current node's value and update carry\n",
    "        total = current.value + carry\n",
    "        current.value = total % 10\n",
    "        carry = total // 10\n",
    "\n",
    "        # Move to the next node\n",
    "        current = current.next\n",
    "\n",
    "    # Reverse the linked list again to get the final result\n",
    "    result_head = reverse_list(reversed_head)\n",
    "\n",
    "    return result_head\n",
    "\n",
    "def reverse_list(head):\n",
    "    prev = None\n",
    "    current = head\n",
    "\n",
    "    while current:\n",
    "        next_node = current.next\n",
    "        current.next = prev\n",
    "        prev = current\n",
    "        current = next_node\n",
    "\n",
    "    return prev\n",
    "\n",
    "def display(head):\n",
    "    current = head\n",
    "    while current:\n",
    "        print(current.value, end=\" -> \")\n",
    "        current = current.next\n",
    "    print(\"None\")\n",
    "\n",
    "# Example usage:\n",
    "# Input: 1 -> 2 -> 3\n",
    "# Output: 1 -> 2 -> 4\n",
    "\n",
    "input_list = ListNode(1, ListNode(2, ListNode(3)))\n",
    "\n",
    "print(\"Input List:\")\n",
    "display(input_list)\n",
    "\n",
    "result = add_one_to_linked_list(input_list)\n",
    "\n",
    "print(\"\\nList after adding one:\")\n",
    "display(result)\n"
   ]
  },
  {
   "cell_type": "code",
   "execution_count": null,
   "id": "83f51848-1d95-4463-8715-51537b9694b8",
   "metadata": {},
   "outputs": [],
   "source": [
    "Problem 14: Given a sorted array and a target value, return the index if the target is found. If not, return the\n",
    "index where it would be inserted.\n",
    "Input: nums = [1, 3, 5, 6], target = 5\n",
    "Output: 2"
   ]
  },
  {
   "cell_type": "code",
   "execution_count": 5,
   "id": "94bfad82-3539-46c8-ac7f-57cf83333c06",
   "metadata": {},
   "outputs": [
    {
     "name": "stdout",
     "output_type": "stream",
     "text": [
      "Element 5 found at index 2\n"
     ]
    }
   ],
   "source": [
    "def search_element(arr, target):\n",
    "    for i, element in enumerate(arr):\n",
    "        if element == target:\n",
    "            return i\n",
    "    print(\"Element not found\")\n",
    "    return -1  # Return a special value (e.g., -1) to indicate that the element is not in the array\n",
    "\n",
    "arr = [1, 3, 5, 6]\n",
    "target = 5\n",
    "result = search_element(arr, target)\n",
    "\n",
    "if result != -1:\n",
    "    print(f\"Element {target} found at index {result}\")\n",
    " "
   ]
  },
  {
   "cell_type": "code",
   "execution_count": 10,
   "id": "809eeeaf-5331-4e01-9a54-3520ce8fcb6f",
   "metadata": {},
   "outputs": [
    {
     "data": {
      "text/plain": [
       "2"
      ]
     },
     "execution_count": 10,
     "metadata": {},
     "output_type": "execute_result"
    }
   ],
   "source": [
    "def search_element(nums,target):\n",
    "    low = 0\n",
    "    high = len(nums)-1\n",
    "    while low<=high:\n",
    "        mid = (low + high)//2\n",
    "        if(nums[mid] == target):\n",
    "            return mid\n",
    "        elif(nums[mid]<target):\n",
    "            low = mid + 1\n",
    "        else:\n",
    "            high = mid-1\n",
    "nums = [1, 3, 5, 6]\n",
    "target = 5\n",
    "search_element(nums,target)\n",
    "            "
   ]
  },
  {
   "cell_type": "code",
   "execution_count": null,
   "id": "6c2cf050-27df-4265-8ba7-8fe95728694a",
   "metadata": {},
   "outputs": [],
   "source": [
    "Problem 15: Find the minimum element in a rotated sorted array."
   ]
  },
  {
   "cell_type": "code",
   "execution_count": 12,
   "id": "868e0a76-2e5e-479b-9cbb-b6a0a30c412b",
   "metadata": {},
   "outputs": [
    {
     "name": "stdout",
     "output_type": "stream",
     "text": [
      "0\n"
     ]
    }
   ],
   "source": [
    "def find_min(nums):\n",
    "    INT_MAX = float('inf')\n",
    "    ans = INT_MAX\n",
    "    low = 0\n",
    "    high = len(nums) - 1\n",
    "\n",
    "    while low < high:\n",
    "        mid = (low + high) // 2\n",
    "\n",
    "        if nums[low] < nums[mid]:\n",
    "            ans = min(ans, nums[low])\n",
    "            low = mid + 1\n",
    "        else:\n",
    "            ans = min(ans, nums[mid])\n",
    "            high = mid - 1\n",
    "\n",
    "    return min(ans, nums[low])\n",
    "\n",
    "# Example usage\n",
    "nums = [4, 5, 6, 7, 0, 1, 2]\n",
    "result = find_min(nums)\n",
    "print(result)\n",
    "\n",
    "\n",
    "           \n",
    "    "
   ]
  },
  {
   "cell_type": "code",
   "execution_count": 13,
   "id": "ea2be50c-b58a-4785-878f-23179597b8a2",
   "metadata": {},
   "outputs": [
    {
     "name": "stdout",
     "output_type": "stream",
     "text": [
      "0\n"
     ]
    }
   ],
   "source": [
    "def find_min(nums):\n",
    "    low, high = 0, len(nums) - 1\n",
    "\n",
    "    while low < high:\n",
    "        mid = (low + high) // 2\n",
    "\n",
    "        if nums[mid] < nums[high]:\n",
    "            high = mid\n",
    "        else:\n",
    "            low = mid + 1\n",
    "\n",
    "    return nums[low]\n",
    "\n",
    "# Example usage\n",
    "nums = [4, 5, 6, 7, 0, 1, 2]\n",
    "result = find_min(nums)\n",
    "print(result)\n"
   ]
  },
  {
   "cell_type": "code",
   "execution_count": null,
   "id": "60e0c8dd-3b6c-4431-8879-fc78e905bf6d",
   "metadata": {},
   "outputs": [],
   "source": [
    "Problem 16: Search for a target value in a rotated sorted array."
   ]
  },
  {
   "cell_type": "code",
   "execution_count": 7,
   "id": "759c0eea-19c3-4670-90d5-3a7fbc2b2b0e",
   "metadata": {},
   "outputs": [
    {
     "name": "stdout",
     "output_type": "stream",
     "text": [
      "Target 0 found at index 4.\n"
     ]
    }
   ],
   "source": [
    "def search_rotated_array(nums, target):\n",
    "    low, high = 0, len(nums) - 1\n",
    "\n",
    "    while low <= high:\n",
    "        mid = (low + high) // 2\n",
    "\n",
    "        if nums[mid] == target:\n",
    "            return mid\n",
    "\n",
    "        # Check which half is sorted\n",
    "        if nums[low] <= nums[mid]:  # Left half is sorted\n",
    "            if nums[low] <= target <= nums[mid]:\n",
    "                high = mid - 1\n",
    "            else:\n",
    "                low = mid + 1\n",
    "        else:  # Right half is sorted\n",
    "            if nums[mid] <= target <= nums[high]:\n",
    "                low = mid + 1\n",
    "            else:\n",
    "                high = mid - 1\n",
    "\n",
    "    return -1  # Target not found\n",
    "\n",
    "# Example usage:\n",
    "nums = [4, 5, 6, 7, 0, 1, 2]\n",
    "target = 0\n",
    "result = search_rotated_array(nums, target)\n",
    "\n",
    "if result != -1:\n",
    "    print(f\"Target {target} found at index {result}.\")\n",
    "else:\n",
    "    print(f\"Target {target} not found.\")\n",
    "   "
   ]
  },
  {
   "cell_type": "code",
   "execution_count": null,
   "id": "45b3ae12-ac84-49fc-b6ae-cb82be201199",
   "metadata": {},
   "outputs": [],
   "source": [
    "Problem 17: Find the peak element in an array. A peak element is greater than its neighbors.\n",
    "Input: nums = [1, 2, 3, 1]\n",
    "Output: 2 (index of peak element)"
   ]
  },
  {
   "cell_type": "code",
   "execution_count": 3,
   "id": "6edcb903-f38d-4b59-bfbd-7a67703f0856",
   "metadata": {},
   "outputs": [
    {
     "name": "stdout",
     "output_type": "stream",
     "text": [
      "2\n"
     ]
    }
   ],
   "source": [
    "def peak_element(nums):\n",
    "    n = len(nums)\n",
    "    if n == 1:\n",
    "        return 0\n",
    "    if nums[0] >= nums[1]:\n",
    "        return 0\n",
    "    if nums[n-1] >= nums[n-2]:\n",
    "        return n-1\n",
    "    for i in range(1, len(nums)-1):\n",
    "        if nums[i] >= nums[i-1] and nums[i] >= nums[i+1]:\n",
    "            return i\n",
    "    return -1\n",
    "\n",
    "nums = [1, 2, 3, 1]\n",
    "result = peak_element(nums)\n",
    "print(result)\n"
   ]
  },
  {
   "cell_type": "code",
   "execution_count": 4,
   "id": "6b650549-14f2-4852-9064-25274f12155b",
   "metadata": {},
   "outputs": [
    {
     "name": "stdout",
     "output_type": "stream",
     "text": [
      "2\n"
     ]
    }
   ],
   "source": [
    "def find_peak_element(nums):\n",
    "    left, right = 0, len(nums) - 1\n",
    "\n",
    "    while left < right:\n",
    "        mid = left + (right - left) // 2\n",
    "\n",
    "        if nums[mid] > nums[mid + 1]:\n",
    "            # The peak must be in the left half (including mid)\n",
    "            right = mid\n",
    "        else:\n",
    "            # The peak must be in the right half (excluding mid)\n",
    "            left = mid + 1\n",
    "\n",
    "    return left\n",
    "\n",
    "nums = [1, 2, 3, 1]\n",
    "result = find_peak_element(nums)\n",
    "print(result)\n"
   ]
  },
  {
   "cell_type": "code",
   "execution_count": null,
   "id": "38b95bb9-3c7b-47e2-b65a-4f0e57dc5d7c",
   "metadata": {},
   "outputs": [],
   "source": [
    "Problem 18: Given a m x n matrix where each row and column is sorted in ascending order, count the number\n",
    "of negative numbers.\n",
    "Input: grid = [[4, 3, 2, -1], [3, 2, 1, -1], [1, 1, -1, -2], [-1, -1, -2, -3]]\n",
    "Output: 8"
   ]
  },
  {
   "cell_type": "code",
   "execution_count": 6,
   "id": "1cd6f788-1dd8-4f89-b429-da2b5e85f0ad",
   "metadata": {},
   "outputs": [
    {
     "name": "stdout",
     "output_type": "stream",
     "text": [
      "8\n"
     ]
    }
   ],
   "source": [
    "def count_negative(grid):\n",
    "    m,n = len(grid),len(grid)\n",
    "    count = 0\n",
    "    row,col = 0,n-1\n",
    "    while row<n and col>=0:\n",
    "        if grid[row][col] <0:\n",
    "            count = count + m - row\n",
    "            col = col -1\n",
    "            \n",
    "        else:\n",
    "            row = row +1\n",
    "    return count\n",
    "grid = [[4, 3, 2, -1], [3, 2, 1, -1], [1, 1, -1, -2], [-1, -1, -2, -3]]\n",
    "result = count_negative(grid)\n",
    "print(result)\n",
    "            "
   ]
  },
  {
   "cell_type": "code",
   "execution_count": null,
   "id": "0fcd671d-2ef3-46e2-9c06-8adbc0cc39a1",
   "metadata": {},
   "outputs": [],
   "source": [
    "Problem 19: Given a 2D matrix sorted in ascending order in each row, and the first integer of each row is\n",
    "greater than the last integer of the previous row, determine if a target value is present in the matrix.\n",
    "Input: matrix = [[1, 3, 5, 7], [10, 11, 16, 20], [23, 30, 34, 60]], target = 3\n",
    "Output: True"
   ]
  },
  {
   "cell_type": "code",
   "execution_count": 7,
   "id": "4dbec897-abdb-4e81-92e8-7a5e1758e202",
   "metadata": {},
   "outputs": [
    {
     "name": "stdout",
     "output_type": "stream",
     "text": [
      "True\n"
     ]
    }
   ],
   "source": [
    "def search_matrix(matrix, target):\n",
    "    if not matrix or not matrix[0]:\n",
    "        return False\n",
    "    \n",
    "    rows, cols = len(matrix), len(matrix[0])\n",
    "    left, right = 0, rows * cols - 1\n",
    "\n",
    "    while left <= right:\n",
    "        mid = left + (right - left) // 2\n",
    "        mid_value = matrix[mid // cols][mid % cols]\n",
    "\n",
    "        if mid_value == target:\n",
    "            return True\n",
    "        elif mid_value < target:\n",
    "            left = mid + 1\n",
    "        else:\n",
    "            right = mid - 1\n",
    "\n",
    "    return False\n",
    "\n",
    "# Example usage\n",
    "matrix = [[1, 3, 5, 7], [10, 11, 16, 20], [23, 30, 34, 60]]\n",
    "target = 3\n",
    "result = search_matrix(matrix, target)\n",
    "print(result)\n",
    "\n",
    "        \n",
    "    "
   ]
  },
  {
   "cell_type": "code",
   "execution_count": null,
   "id": "97e4aa2b-aba9-4794-a960-e4ba2c8d0b81",
   "metadata": {},
   "outputs": [],
   "source": [
    "Problem 20: Find Median in Two Sorted Arrays\n",
    "Problem: Given two sorted arrays, find the median of the combined sorted array."
   ]
  },
  {
   "cell_type": "code",
   "execution_count": 1,
   "id": "2fd117ab-cc58-4427-961d-481008d78650",
   "metadata": {},
   "outputs": [
    {
     "name": "stdout",
     "output_type": "stream",
     "text": [
      "2\n"
     ]
    }
   ],
   "source": [
    "def findMedianSortedArrays(nums1, nums2):\n",
    "    if len(nums1) > len(nums2):\n",
    "        nums1, nums2 = nums2, nums1\n",
    "\n",
    "    x, y = len(nums1), len(nums2)\n",
    "    low, high = 0, x\n",
    "\n",
    "    while low <= high:\n",
    "        partitionX = (low + high) // 2\n",
    "        partitionY = (x + y + 1) // 2 - partitionX\n",
    "\n",
    "        maxX = float('-inf') if partitionX == 0 else nums1[partitionX - 1]\n",
    "        minX = float('inf') if partitionX == x else nums1[partitionX]\n",
    "\n",
    "        maxY = float('-inf') if partitionY == 0 else nums2[partitionY - 1]\n",
    "        minY = float('inf') if partitionY == y else nums2[partitionY]\n",
    "\n",
    "        if maxX <= minY and maxY <= minX:\n",
    "            if (x + y) % 2 == 0:\n",
    "                return (max(maxX, maxY) + min(minX, minY)) / 2\n",
    "            else:\n",
    "                return max(maxX, maxY)\n",
    "        elif maxX > minY:\n",
    "            high = partitionX - 1\n",
    "        else:\n",
    "            low = partitionX + 1\n",
    "\n",
    "# Example usage:\n",
    "nums1 = [1, 3]\n",
    "nums2 = [2]\n",
    "result = findMedianSortedArrays(nums1, nums2)\n",
    "print(result)\n"
   ]
  },
  {
   "cell_type": "code",
   "execution_count": 2,
   "id": "e0a6708a-87cc-4e8f-8a01-b06507ee0794",
   "metadata": {},
   "outputs": [
    {
     "name": "stdout",
     "output_type": "stream",
     "text": [
      "2.5\n"
     ]
    }
   ],
   "source": [
    "def findMedianSortedArrays(nums1, nums2):\n",
    "    combined = merge(nums1, nums2)\n",
    "    length = len(combined)\n",
    "\n",
    "    if length % 2 == 0:\n",
    "        # If the combined length is even, return the average of the middle two elements.\n",
    "        return (combined[length // 2 - 1] + combined[length // 2]) / 2\n",
    "    else:\n",
    "        # If the combined length is odd, return the middle element.\n",
    "        return combined[length // 2]\n",
    "\n",
    "def merge(nums1, nums2):\n",
    "    result = []\n",
    "    i = j = 0\n",
    "\n",
    "    while i < len(nums1) and j < len(nums2):\n",
    "        if nums1[i] < nums2[j]:\n",
    "            result.append(nums1[i])\n",
    "            i += 1\n",
    "        else:\n",
    "            result.append(nums2[j])\n",
    "            j += 1\n",
    "\n",
    "    result.extend(nums1[i:])\n",
    "    result.extend(nums2[j:])\n",
    "\n",
    "    return result\n",
    "\n",
    "# Example usage:\n",
    "nums1 = [1, 3]\n",
    "nums2 = [2, 4]\n",
    "result = findMedianSortedArrays(nums1, nums2)\n",
    "print(result)\n"
   ]
  },
  {
   "cell_type": "code",
   "execution_count": null,
   "id": "ebc7ed99-0b3c-49f7-9ccc-e714a8751ba1",
   "metadata": {},
   "outputs": [],
   "source": [
    "Problem 21: Given a sorted character array and a target letter, find the smallest letter in the array that is\n",
    "greater than the target.\n",
    "Input: letters = ['c', 'f', 'j'], target = a\n",
    "Output: 'c'"
   ]
  },
  {
   "cell_type": "code",
   "execution_count": 8,
   "id": "45c4a8dd-8ed2-429c-ab99-9569dd0d30bf",
   "metadata": {},
   "outputs": [
    {
     "name": "stdout",
     "output_type": "stream",
     "text": [
      "c\n"
     ]
    }
   ],
   "source": [
    "def find_smallest_greater_letter(letters, target):\n",
    "    left, right = 0, len(letters) - 1\n",
    "    while left <= right:\n",
    "        \n",
    "        mid = (left + right) // 2\n",
    "        if letters[mid] > target:\n",
    "            \n",
    "            right = mid - 1\n",
    "        else:\n",
    "            left = mid + 1\n",
    "    return letters[left % len(letters)]  # Handle wrap-around\n",
    "\n",
    "\n",
    "# Example usage:\n",
    "letters = ['c', 'f', 'j']\n",
    "target = 'a'\n",
    "result = find_smallest_greater_letter(letters, target)\n",
    "print(result)  # Output: 'c'\n"
   ]
  },
  {
   "cell_type": "code",
   "execution_count": null,
   "id": "d6259ddd-e9cc-4c9e-94a5-ab23da6b7c00",
   "metadata": {},
   "outputs": [],
   "source": [
    "Problem 22: Given an array with n objects colored red, white, or blue, sort them in-place so that objects of\n",
    "the same color are adjacent, with the colors in the order red, white, and blue.\n",
    "Input: nums = [2, 0, 2, 1, 1, 0]\n",
    "Output: [0, 0, 1, 1, 2, 2]"
   ]
  },
  {
   "cell_type": "code",
   "execution_count": 4,
   "id": "7f462bdd-6a66-4dc9-a470-e84c1cee8544",
   "metadata": {},
   "outputs": [
    {
     "name": "stdout",
     "output_type": "stream",
     "text": [
      "[0, 0, 1, 1, 2, 2]\n"
     ]
    }
   ],
   "source": [
    "def color_sorted(nums):\n",
    "    low = 0\n",
    "    high = len(nums)-1\n",
    "    mid = 0\n",
    "    \n",
    "    while(mid<=high):\n",
    "        if nums[mid] == 1:\n",
    "            mid = mid +1\n",
    "        elif nums[mid] == 0:\n",
    "            nums[low],nums[mid] = nums[mid],nums[low]\n",
    "            low = low +1\n",
    "            mid = mid +1\n",
    "        else:\n",
    "            nums[mid],nums[high] = nums[high],nums[mid]\n",
    "            high = high -1\n",
    "nums = [2, 0, 2, 1, 1, 0]\n",
    "color_sorted(nums)\n",
    "print(nums)"
   ]
  },
  {
   "cell_type": "code",
   "execution_count": null,
   "id": "02dc7cc0-43b7-4a67-87b4-0f818e53f5b0",
   "metadata": {},
   "outputs": [],
   "source": [
    "Problem 23: Find the kth largest element in an unsorted array."
   ]
  },
  {
   "cell_type": "code",
   "execution_count": null,
   "id": "01d70aff-b20e-4e46-9026-74f1ab18680f",
   "metadata": {},
   "outputs": [],
   "source": [
    "def partition(nums, low, high):\n",
    "    pivot = nums[high]\n",
    "    i = low - 1\n",
    "\n",
    "    for j in range(low, high):\n",
    "        if nums[j] >= pivot:\n",
    "            i += 1\n",
    "            nums[i], nums[j] = nums[j], nums[i]\n",
    "\n",
    "    nums[i + 1], nums[high] = nums[high], nums[i + 1]\n",
    "    return i + 1\n",
    "\n",
    "def quickSelect(nums, low, high, k):\n",
    "    if low <= high:\n",
    "        pivotIndex = partition(nums, low, high)\n",
    "\n",
    "        if pivotIndex == k:\n",
    "            return nums[pivotIndex]\n",
    "        elif pivotIndex < k:\n",
    "            return quickSelect(nums, pivotIndex + 1, high, k)\n",
    "        else:\n",
    "            return quickSelect(nums, low, pivotIndex - 1, k)\n",
    "\n",
    "def findKthLargest(nums, k):\n",
    "    if k > 0 and k <= len(nums):\n",
    "        return quickSelect(nums, 0, len(nums) - 1, k - 1)\n",
    "    else:\n",
    "        return None\n",
    "\n",
    "# Example usage:\n",
    "arr = [3, 1, 4, 4, 2, 2, 5, 3, 7]\n",
    "k = 4\n",
    "result = findKthLargest(arr, k)\n",
    "print(f\"The {k}th largest element is: {result}\")\n"
   ]
  },
  {
   "cell_type": "code",
   "execution_count": null,
   "id": "292598fc-3e3a-4bf6-8f7e-8aa99a22e10a",
   "metadata": {},
   "outputs": [],
   "source": [
    "Problem 24: Given an unsorted array, reorder it in-place such that nums[0] <= nums[1] >= nums[2] <=\n",
    "nums[3]..."
   ]
  },
  {
   "cell_type": "code",
   "execution_count": 9,
   "id": "4e707f71-f706-49d3-95c6-ce5243446a37",
   "metadata": {},
   "outputs": [
    {
     "name": "stdout",
     "output_type": "stream",
     "text": [
      "Wiggle sorted array: [3, 5, 1, 4, 2, 6]\n"
     ]
    }
   ],
   "source": [
    "def wiggleSort(nums):\n",
    "    n = len(nums)\n",
    "\n",
    "    for i in range(1, n, 2):\n",
    "        # For odd indices, check if the current element is smaller than the previous one\n",
    "        if nums[i] < nums[i - 1]:\n",
    "            nums[i], nums[i - 1] = nums[i - 1], nums[i]\n",
    "\n",
    "    for i in range(2, n, 2):\n",
    "        # For even indices, check if the current element is greater than the previous one\n",
    "        if nums[i] > nums[i - 1]:\n",
    "            nums[i], nums[i - 1] = nums[i - 1], nums[i]\n",
    "\n",
    "# Example usage:\n",
    "arr = [3, 5, 2, 1, 6, 4]\n",
    "wiggleSort(arr)\n",
    "print(\"Wiggle sorted array:\", arr)\n"
   ]
  },
  {
   "cell_type": "code",
   "execution_count": null,
   "id": "2d4a1513-4fca-40d5-8126-80d7ea865721",
   "metadata": {},
   "outputs": [],
   "source": [
    "Problem 25: Given an array of integers, calculate the sum of all its elements.\n",
    "Input: [1, 2, 3, 4, 5]\n",
    "Output: 15"
   ]
  },
  {
   "cell_type": "code",
   "execution_count": 11,
   "id": "52c4c4d9-f55b-4b1e-975f-ef1c506c07b6",
   "metadata": {},
   "outputs": [
    {
     "name": "stdout",
     "output_type": "stream",
     "text": [
      "15\n"
     ]
    }
   ],
   "source": [
    "def sum_of_int(nums):\n",
    "    sum = 0\n",
    "    i = 0\n",
    "    while(i<len(nums)):\n",
    "        sum = sum + nums[i]\n",
    "        i = i+1\n",
    "    return sum\n",
    "        \n",
    "nums = [1,2,3,4,5]\n",
    "result = sum_of_int(nums)\n",
    "print(result)"
   ]
  },
  {
   "cell_type": "code",
   "execution_count": null,
   "id": "b89c70b0-f9e8-4917-bd0a-1739de2e04ef",
   "metadata": {},
   "outputs": [],
   "source": [
    "Problem 26: Find the maximum element in an array of integers.\n",
    "Input: [3, 7, 2, 9, 4, 1]\n",
    "Output: 9"
   ]
  },
  {
   "cell_type": "code",
   "execution_count": 14,
   "id": "adea28d9-4a58-4ea4-bee8-367289233433",
   "metadata": {},
   "outputs": [
    {
     "name": "stdout",
     "output_type": "stream",
     "text": [
      "9\n"
     ]
    }
   ],
   "source": [
    "def find_maximum(arr):\n",
    "    maximum = 0\n",
    "    i = 0\n",
    "    while i < len(arr):\n",
    "        if arr[i] > maximum:\n",
    "            maximum = arr[i]\n",
    "        i = i + 1\n",
    "    return maximum\n",
    "\n",
    "arr = [3, 7, 2, 9, 4, 1]\n",
    "result = find_maximum(arr)\n",
    "print(result)\n",
    "\n",
    "        \n",
    "\n",
    "\n",
    "\n"
   ]
  },
  {
   "cell_type": "code",
   "execution_count": null,
   "id": "33a971a1-a247-42f9-82d9-9af7b8be9065",
   "metadata": {},
   "outputs": [],
   "source": [
    "Problem 27: Implement linear search to find the index of a target element in an array.\n",
    "Input: [5, 3, 8, 2, 7, 4], target = 8\n",
    "Output: 2"
   ]
  },
  {
   "cell_type": "code",
   "execution_count": 16,
   "id": "a5fafa5c-0c69-4534-afaa-57013cf21b74",
   "metadata": {},
   "outputs": [
    {
     "data": {
      "text/plain": [
       "2"
      ]
     },
     "execution_count": 16,
     "metadata": {},
     "output_type": "execute_result"
    }
   ],
   "source": [
    "def linear_search(nums ,target):\n",
    "    i = 0\n",
    "    while(i < len(nums)):\n",
    "        if (nums[i] == target):\n",
    "            return i\n",
    "            break;\n",
    "        i = i+1\n",
    "nums = [5, 3, 8, 2, 7, 4]\n",
    "target = 8\n",
    "linear_search(nums,target)"
   ]
  },
  {
   "cell_type": "code",
   "execution_count": null,
   "id": "aa8bdf1d-07ea-4d1f-92b2-09b25364b7f9",
   "metadata": {},
   "outputs": [],
   "source": [
    "Problem 28 Calculate the factorial of a given number.\n",
    "Input: 5\n",
    "Output: 120 (as 5! = 5 * 4 * 3 * 2 * 1 = 120)"
   ]
  },
  {
   "cell_type": "code",
   "execution_count": 2,
   "id": "ffac9eca-178d-42b0-b730-1b58e2c454ed",
   "metadata": {},
   "outputs": [
    {
     "name": "stdout",
     "output_type": "stream",
     "text": [
      "120\n"
     ]
    }
   ],
   "source": [
    "def factorial(number):\n",
    "    if number == 0:\n",
    "        return 1\n",
    "    return number * factorial(number - 1)\n",
    "\n",
    "number = 5\n",
    "result = factorial(number)\n",
    "print(result)\n"
   ]
  },
  {
   "cell_type": "code",
   "execution_count": null,
   "id": "af952d83-70b9-4d26-92ce-b5c8655f1840",
   "metadata": {},
   "outputs": [],
   "source": [
    "Problem 29: Check if a given number is a prime number.\n",
    "Input: 7\n",
    "Output: True"
   ]
  },
  {
   "cell_type": "code",
   "execution_count": 4,
   "id": "027d9841-27e7-4d00-bd59-a98e8f60b61f",
   "metadata": {},
   "outputs": [
    {
     "name": "stdout",
     "output_type": "stream",
     "text": [
      "29 is a prime number\n"
     ]
    }
   ],
   "source": [
    "num = 29\n",
    "flag = False\n",
    "if num == 1:\n",
    "    print(num,\"is not prime number\")\n",
    "elif num > 1:\n",
    "    for i in range(2,num):\n",
    "        if(num % i) == 0:\n",
    "            flag = True\n",
    "            break\n",
    "        \n",
    "    if flag:\n",
    "        print(num,\"is not a prime number\")\n",
    "    else:\n",
    "        print(num,\"is a prime number\")\n"
   ]
  },
  {
   "cell_type": "code",
   "execution_count": null,
   "id": "9a3ed945-09ea-4ee9-a514-cd2c21694b50",
   "metadata": {},
   "outputs": [],
   "source": [
    "Problem 30: Generate the Fibonacci series up to a given number n.\n",
    "Input: 8\n",
    "Output: [0, 1, 1, 2, 3, 5, 8, 13]"
   ]
  },
  {
   "cell_type": "code",
   "execution_count": 13,
   "id": "0493c81a-dc32-44ed-91d7-4672c873992f",
   "metadata": {},
   "outputs": [
    {
     "name": "stdout",
     "output_type": "stream",
     "text": [
      "Fibonacci series up to 8: [0, 1, 1, 2, 3, 5, 8]\n"
     ]
    }
   ],
   "source": [
    "def generate_fibonacci(n):\n",
    "    fibonacci_series = [0, 1]\n",
    "\n",
    "    while fibonacci_series[-1] + fibonacci_series[-2] <= n:\n",
    "        next_fibonacci = fibonacci_series[-1] + fibonacci_series[-2]\n",
    "        fibonacci_series.append(next_fibonacci)\n",
    "\n",
    "    return fibonacci_series\n",
    "\n",
    "# Example usage:\n",
    "n = 8\n",
    "result = generate_fibonacci(n)\n",
    "print(f\"Fibonacci series up to {n}: {result}\")\n"
   ]
  },
  {
   "cell_type": "code",
   "execution_count": null,
   "id": "9ebb7263-c755-4d26-9d97-45398c9f5463",
   "metadata": {},
   "outputs": [],
   "source": [
    "Problem 31: Calculate the power of a number using recursion.\n",
    "Input: base = 3, exponent = 4\n",
    "Output: 81 (as 3^4 = 3 * 3 * 3 * 3 = 81)"
   ]
  },
  {
   "cell_type": "code",
   "execution_count": 12,
   "id": "dd68400d-8328-46ab-97c8-59ab3cadfb1e",
   "metadata": {},
   "outputs": [
    {
     "name": "stdout",
     "output_type": "stream",
     "text": [
      "3^4 = 81\n"
     ]
    }
   ],
   "source": [
    "def power(base, exponent):\n",
    "    # Base case: any number raised to the power of 0 is 1\n",
    "    if exponent == 0:\n",
    "        return 1\n",
    "    # Recursive case: calculate power using the formula base^exponent = base * base^(exponent-1)\n",
    "    else:\n",
    "        return base * power(base, exponent - 1)\n",
    "\n",
    "# Example usage:\n",
    "base = 3\n",
    "exponent = 4\n",
    "result = power(base, exponent)\n",
    "print(f\"{base}^{exponent} =\", result)\n"
   ]
  },
  {
   "cell_type": "code",
   "execution_count": null,
   "id": "f83374af-2e66-4a90-b504-c0a0e5062efd",
   "metadata": {},
   "outputs": [],
   "source": [
    "Problem 32: Reverse a given string.\n",
    "Input: \"hello\"\n",
    "Output: \"olleh\""
   ]
  },
  {
   "cell_type": "code",
   "execution_count": 6,
   "id": "bf41f81c-0ae0-4afc-afd4-485e39a91358",
   "metadata": {},
   "outputs": [
    {
     "name": "stdout",
     "output_type": "stream",
     "text": [
      "olleh\n"
     ]
    }
   ],
   "source": [
    "def reverse(s):\n",
    "    # Convert the string to a list of characters\n",
    "    str_list = list(s)\n",
    "    i, j = 0, len(str_list) - 1\n",
    "\n",
    "    while i < j:\n",
    "        # Swap characters at indices i and j\n",
    "        str_list[i], str_list[j] = str_list[j], str_list[i]\n",
    "        i += 1\n",
    "        j -= 1\n",
    "\n",
    "    # Join the list elements back into a string\n",
    "    reversed_str = ''.join(str_list)\n",
    "    return reversed_str\n",
    "\n",
    "# Example usage:\n",
    "input_str = \"hello\"\n",
    "result = reverse(input_str)\n",
    "print(result)\n"
   ]
  },
  {
   "cell_type": "code",
   "execution_count": null,
   "id": "f491aac7-8d5a-4a00-9731-61498bcb6753",
   "metadata": {},
   "outputs": [],
   "source": []
  }
 ],
 "metadata": {
  "kernelspec": {
   "display_name": "Python 3 (ipykernel)",
   "language": "python",
   "name": "python3"
  },
  "language_info": {
   "codemirror_mode": {
    "name": "ipython",
    "version": 3
   },
   "file_extension": ".py",
   "mimetype": "text/x-python",
   "name": "python",
   "nbconvert_exporter": "python",
   "pygments_lexer": "ipython3",
   "version": "3.10.8"
  }
 },
 "nbformat": 4,
 "nbformat_minor": 5
}
